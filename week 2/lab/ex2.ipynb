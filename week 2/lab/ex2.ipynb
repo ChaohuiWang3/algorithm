{
 "cells": [
  {
   "cell_type": "code",
   "execution_count": null,
   "metadata": {},
   "outputs": [],
   "source": [
    "def min_cost(cost):\n",
    "    \n",
    "    for i in range(len(cost) - 3, -1, -1):\n",
    "        cost[i] = min(cost[i+1] + cost[i], cost[i+2] + cost[i])\n",
    "        print(\"low of\", i, \":\", cost[i])\n",
    "    \n",
    "    return min(cost[0], cost[1])"
   ]
  },
  {
   "cell_type": "code",
   "execution_count": null,
   "metadata": {},
   "outputs": [],
   "source": [
    "print(min_cost([1,100,1,1,1,100,1,1,100,1]))"
   ]
  }
 ],
 "metadata": {
  "language_info": {
   "name": "python"
  },
  "orig_nbformat": 4
 },
 "nbformat": 4,
 "nbformat_minor": 2
}
