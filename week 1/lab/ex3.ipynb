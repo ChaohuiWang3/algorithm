{
 "cells": [
  {
   "cell_type": "code",
   "execution_count": 1,
   "metadata": {},
   "outputs": [],
   "source": [
    "def balanaced_parenthesis(str):\n",
    "    brackets = []\n",
    "\n",
    "    for c in str:\n",
    "        if c == '(':\n",
    "            brackets.append('(')\n",
    "\n",
    "        if c == ')':\n",
    "            if len(brackets) < 1:\n",
    "                return False\n",
    "\n",
    "            if brackets.pop() != '(':\n",
    "                return False\n",
    "        \n",
    "        if c == '[':\n",
    "            brackets.append('[')\n",
    "\n",
    "        if c == ']':\n",
    "            if len(brackets) < 1:\n",
    "                return False\n",
    "\n",
    "            if brackets.pop() != '[':\n",
    "                return False\n",
    "        \n",
    "        if c == '{':\n",
    "            brackets.append('{')\n",
    "        \n",
    "        if c == '}':\n",
    "            if len(brackets) < 1:\n",
    "                return False\n",
    "            \n",
    "            if brackets.pop() != '[':\n",
    "                return False\n",
    "        \n",
    "\n",
    "    \n",
    "    return len(brackets) == 0"
   ]
  },
  {
   "cell_type": "code",
   "execution_count": 2,
   "metadata": {},
   "outputs": [
    {
     "name": "stdout",
     "output_type": "stream",
     "text": [
      "True\n",
      "False\n"
     ]
    }
   ],
   "source": [
    "print(balanaced_parenthesis(\"((x*2)+(x-2)) - a[3] / a[10]\"))\n",
    "print(balanaced_parenthesis(\"(((x*2)+(x-2)) - a[3] / a[10]\"))"
   ]
  }
 ],
 "metadata": {
  "interpreter": {
   "hash": "e922dd073470bdcc017ae3abd31d6491d6ed7bf31c1d559806e5511bfea88b81"
  },
  "kernelspec": {
   "display_name": "Python 3.9.6 64-bit",
   "language": "python",
   "name": "python3"
  },
  "language_info": {
   "codemirror_mode": {
    "name": "ipython",
    "version": 3
   },
   "file_extension": ".py",
   "mimetype": "text/x-python",
   "name": "python",
   "nbconvert_exporter": "python",
   "pygments_lexer": "ipython3",
   "version": "3.9.6"
  },
  "orig_nbformat": 4
 },
 "nbformat": 4,
 "nbformat_minor": 2
}
