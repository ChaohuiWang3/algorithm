{
 "cells": [
  {
   "cell_type": "code",
   "execution_count": 36,
   "metadata": {},
   "outputs": [],
   "source": [
    "# root operation\n",
    "def root(u):\n",
    "    while(u!=id[u]):\n",
    "        u=id[u]\n",
    "    return u"
   ]
  },
  {
   "cell_type": "code",
   "execution_count": 37,
   "metadata": {},
   "outputs": [],
   "source": [
    "#find operation\n",
    "def find(u,v):\n",
    "    return root(u)==root(v)"
   ]
  },
  {
   "cell_type": "code",
   "execution_count": 38,
   "metadata": {},
   "outputs": [],
   "source": [
    "# weighted-union operation\n",
    "def union(u,v):\n",
    "    r_u=root(u)\n",
    "    r_v=root(v)\n",
    "    if (r_u == r_v):\n",
    "        return\n",
    "        \n",
    "    if (size[r_u] < size[r_v]):\n",
    "        id[r_u]=id[r_v]\n",
    "        size[r_v]+=size[r_u]\n",
    "    else:\n",
    "        id[r_v]=id[r_u]\n",
    "        size[r_u]+=size[r_v]"
   ]
  },
  {
   "cell_type": "code",
   "execution_count": 39,
   "metadata": {},
   "outputs": [],
   "source": [
    "# new operation to check connectivity\n",
    "def isConnected():\n",
    "    for i in range(N-1):\n",
    "        if not(find(i, i+1)):\n",
    "            return False\n",
    "    return True"
   ]
  },
  {
   "cell_type": "code",
   "execution_count": 40,
   "metadata": {},
   "outputs": [
    {
     "name": "stdout",
     "output_type": "stream",
     "text": [
      "connected after 19 friendship requests\n"
     ]
    }
   ],
   "source": [
    "# Open the log file\n",
    "with open('1-socnetfile.txt','r') as f:\n",
    "    N = (int)(f.readline())\n",
    "    M = (int)(f.readline())\n",
    "\n",
    "\n",
    "    # represent the social network as a weighted union-find\n",
    "    id = [i for i in range(N)]\n",
    "    size = [1 for i in range(N)]\n",
    "    \n",
    "    # friendship requests (i.e., unions)\n",
    "    for i in range(M):\n",
    "        s = f.readline()\n",
    "        friends = [x.strip() for x in s.split(\",\")]\n",
    "        union((int)(friends[0]), (int)(friends[1]))\n",
    "        \n",
    "        # after each new friendship, check if the social network is connected\n",
    "        if isConnected():\n",
    "            print(\"connected after\",  i+1, \"friendship requests\")\n",
    "            break"
   ]
  }
 ],
 "metadata": {
  "interpreter": {
   "hash": "e922dd073470bdcc017ae3abd31d6491d6ed7bf31c1d559806e5511bfea88b81"
  },
  "kernelspec": {
   "display_name": "Python 3.9.6 64-bit",
   "language": "python",
   "name": "python3"
  },
  "language_info": {
   "codemirror_mode": {
    "name": "ipython",
    "version": 3
   },
   "file_extension": ".py",
   "mimetype": "text/x-python",
   "name": "python",
   "nbconvert_exporter": "python",
   "pygments_lexer": "ipython3",
   "version": "3.9.6"
  },
  "orig_nbformat": 4
 },
 "nbformat": 4,
 "nbformat_minor": 2
}
