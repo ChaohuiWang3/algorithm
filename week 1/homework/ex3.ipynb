{
 "cells": [
  {
   "cell_type": "code",
   "execution_count": 1,
   "metadata": {},
   "outputs": [],
   "source": [
    "N=10\n",
    "id = [i for i in range(0, N)]\n",
    "size = [1 for i in range(0, N)]\n",
    "maxElement = [i for i in range(0, N)]"
   ]
  },
  {
   "cell_type": "code",
   "execution_count": 2,
   "metadata": {},
   "outputs": [],
   "source": [
    "# root operation (unchanged)\n",
    "def root(u):\n",
    "    while(u!=id[u]):\n",
    "        u=id[u]\n",
    "    return u"
   ]
  },
  {
   "cell_type": "code",
   "execution_count": 3,
   "metadata": {},
   "outputs": [],
   "source": [
    "# find operation (unchanged)\n",
    "def find(u,v):\n",
    "    return root(u)==root(v)"
   ]
  },
  {
   "cell_type": "code",
   "execution_count": 4,
   "metadata": {},
   "outputs": [],
   "source": [
    "# weighted-union operation \n",
    "def union(u,v):\n",
    "    r_u=root(u)\n",
    "    r_v=root(v)\n",
    "    if (r_u == r_v):\n",
    "        return\n",
    "    \n",
    "    if (size[r_u] < size[r_v]):\n",
    "        id[r_u]=id[r_v]\n",
    "        size[r_v]+=size[r_u]\n",
    "    else:\n",
    "        id[r_v]=id[r_u]\n",
    "        size[r_u]+=size[r_v]\n",
    "                \n",
    "    if (maxElement[u] > maxElement[v]):\n",
    "        maxElement[v]= maxElement[u]\n",
    "    else:\n",
    "        maxElement[u]= maxElement[v]"
   ]
  },
  {
   "cell_type": "code",
   "execution_count": 5,
   "metadata": {},
   "outputs": [],
   "source": [
    "# new find operation \n",
    "def find(u):\n",
    "   return maxElement[id[u]]"
   ]
  },
  {
   "cell_type": "code",
   "execution_count": 6,
   "metadata": {},
   "outputs": [
    {
     "data": {
      "text/plain": [
       "9"
      ]
     },
     "execution_count": 6,
     "metadata": {},
     "output_type": "execute_result"
    }
   ],
   "source": [
    "union(1,2)\n",
    "union(1,9)\n",
    "union(2,6)\n",
    "find(2)"
   ]
  }
 ],
 "metadata": {
  "interpreter": {
   "hash": "e922dd073470bdcc017ae3abd31d6491d6ed7bf31c1d559806e5511bfea88b81"
  },
  "kernelspec": {
   "display_name": "Python 3.9.6 64-bit",
   "language": "python",
   "name": "python3"
  },
  "language_info": {
   "codemirror_mode": {
    "name": "ipython",
    "version": 3
   },
   "file_extension": ".py",
   "mimetype": "text/x-python",
   "name": "python",
   "nbconvert_exporter": "python",
   "pygments_lexer": "ipython3",
   "version": "3.9.6"
  },
  "orig_nbformat": 4
 },
 "nbformat": 4,
 "nbformat_minor": 2
}
