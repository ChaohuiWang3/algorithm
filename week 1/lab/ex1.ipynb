{
 "cells": [
  {
   "cell_type": "code",
   "execution_count": 3,
   "metadata": {},
   "outputs": [],
   "source": [
    "\"\"\"\n",
    "amount -> an integer target amount\n",
    "coin_types -> a list of the coins in the currency\n",
    "coins_needed -> returns the smallest amount of coins needed given the amount and coin types\n",
    "\"\"\"\n",
    "def coins_needed(amount, coin_types):\n",
    "    # Base case\n",
    "    if amount == 0:\n",
    "        return 0\n",
    "\n",
    "    # Keep track of all values that have been reached\n",
    "    min_coins = 1\n",
    "    # Set is similar to a list but is in random order with no duplicates\n",
    "    achieved_values = set()\n",
    "    new_achieved_values = set()\n",
    "\n",
    "    # Add all coins to achieved value\n",
    "    for coin in coin_types:\n",
    "        if coin <= amount:\n",
    "           new_achieved_values.add(coin)\n",
    "\n",
    "    # While target amount is not reached\n",
    "    while amount not in new_achieved_values:\n",
    "        # Copy values from new_achieved_values to achieved_values\n",
    "        achieved_values.update(new_achieved_values)\n",
    "\n",
    "        min_coins += 1\n",
    "        for coin in coin_types:\n",
    "            for t in achieved_values:\n",
    "                if coin + t <= amount:\n",
    "                    # Add value to achieved value if less than amount\n",
    "                    new_achieved_values.add((coin + t))\n",
    "\n",
    "        if len(new_achieved_values) == len(achieved_values):\n",
    "            # No new values under amount were created so there exists no solution\n",
    "            return -1\n",
    "\n",
    "    return min_coins"
   ]
  },
  {
   "cell_type": "code",
   "execution_count": 4,
   "metadata": {},
   "outputs": [
    {
     "name": "stdout",
     "output_type": "stream",
     "text": [
      "Testing with 7 and [1,2,5,10,20,50] : 2\n",
      "Testing with 7 and [2,6,10,20,50] : -1\n",
      "Testing with 150 and [1,2,5,10,20,50] : 3\n",
      "Testing with 28 and [1,2,5,10,20,50] : 4 \n",
      "\n",
      "Testing with 7 and [1,4,6] : 2\n",
      "Testing with 9 and [1,4,6] : 3\n"
     ]
    }
   ],
   "source": [
    "print(\"Testing with 7 and [1,2,5,10,20,50] :\", coins_needed(7, [1,2,5,10,20,50]))\n",
    "print(\"Testing with 7 and [2,6,10,20,50] :\", coins_needed(7, [2,6,10,20,50]))\n",
    "print(\"Testing with 150 and [1,2,5,10,20,50] :\", coins_needed(150, [1,2,5,10,20,50]))\n",
    "print(\"Testing with 28 and [1,2,5,10,20,50] :\", coins_needed(28, [1,2,5,10,20,50]), \"\\n\")\n",
    "\n",
    "print(\"Testing with 7 and [1,4,6] :\", coins_needed(7, [1,4,6]))\n",
    "print(\"Testing with 9 and [1,4,6] :\", coins_needed(9, [1,4,6]))"
   ]
  }
 ],
 "metadata": {
  "language_info": {
   "name": "python"
  },
  "orig_nbformat": 4
 },
 "nbformat": 4,
 "nbformat_minor": 2
}
